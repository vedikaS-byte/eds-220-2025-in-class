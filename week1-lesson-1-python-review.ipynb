{
 "cells": [
  {
   "cell_type": "markdown",
   "id": "3ee06614-7ff9-4db9-8d69-c33b078036c9",
   "metadata": {},
   "source": [
    "# Python Review: \n",
    "Goals: \n",
    "- Recall basic Python vocabulary \n",
    "- Practice markdown \n",
    "\n",
    "## Libraries and Packages\n",
    "**library**: a collection of code that is used to perform specific tasks in the program(s)\n",
    "- **NumPy**: Core library for numerical computing in Python\n",
    "    - Many other libraries use NumPy arrays as building blocks\n",
    "    - Computations on NumPy are optomized for speed and memory usage\n",
    "    \n",
    "Import NumPy with standard abbreviation."
   ]
  },
  {
   "cell_type": "code",
   "execution_count": 3,
   "id": "e82b73c0-dd4c-4023-a9d0-fb2919fb64c5",
   "metadata": {
    "tags": []
   },
   "outputs": [],
   "source": [
    "import numpy as np \n",
    "import pandas as pd"
   ]
  },
  {
   "cell_type": "markdown",
   "id": "147d1017-2602-4e09-9448-9f8c42035e58",
   "metadata": {},
   "source": [
    "## Variables\n",
    "**variable**: Name assigned to a particular object in Python\n",
    "\n",
    "Ex.: "
   ]
  },
  {
   "cell_type": "code",
   "execution_count": 4,
   "id": "00a133c5-fd6f-4781-a3ac-c7dd1752e0f1",
   "metadata": {
    "tags": []
   },
   "outputs": [],
   "source": [
    "# assign a small array to a variable \"a\"\n",
    "a = np.array([[1,1,2],[3,5,8]])"
   ]
  },
  {
   "cell_type": "code",
   "execution_count": 6,
   "id": "98a2e342-b310-45a5-a1f2-93655b043698",
   "metadata": {
    "tags": []
   },
   "outputs": [
    {
     "name": "stdout",
     "output_type": "stream",
     "text": [
      "[[1 1 2]\n",
      " [3 5 8]]\n"
     ]
    }
   ],
   "source": [
    "# run cell with var name to show output \n",
    "print(a)"
   ]
  },
  {
   "cell_type": "markdown",
   "id": "d766eb6c-ce14-4c7a-84ea-13f3a7a6e51e",
   "metadata": {},
   "source": [
    "## Objects \n",
    "**object** (informally speaking) is a bundle of *properties* and *actions* about something specific. \n",
    "\n",
    "Ex: \n",
    "    - Object: Dataframe\n",
    "    - Properties: # rows and cols, name of cols, date created\n",
    "    - Actions: Selecting a specific row, adding a new column \n",
    "\n",
    "A variable is the name we give a specific object, and the same object can be referenced by different variables. \n",
    "In practice, we can use them interchangeably."
   ]
  },
  {
   "cell_type": "code",
   "execution_count": null,
   "id": "e6681925-7529-4276-8289-6e29ecc8ef00",
   "metadata": {},
   "outputs": [],
   "source": []
  }
 ],
 "metadata": {
  "kernelspec": {
   "display_name": "EDS220",
   "language": "python",
   "name": "eds220-env"
  },
  "language_info": {
   "codemirror_mode": {
    "name": "ipython",
    "version": 3
   },
   "file_extension": ".py",
   "mimetype": "text/x-python",
   "name": "python",
   "nbconvert_exporter": "python",
   "pygments_lexer": "ipython3",
   "version": "3.11.4"
  }
 },
 "nbformat": 4,
 "nbformat_minor": 5
}
