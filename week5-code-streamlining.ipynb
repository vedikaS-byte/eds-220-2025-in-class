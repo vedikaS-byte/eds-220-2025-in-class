{
 "cells": [
  {
   "cell_type": "markdown",
   "id": "7a7f9c38",
   "metadata": {},
   "source": [
    "# Week 5: Streamlining Code"
   ]
  },
  {
   "cell_type": "markdown",
   "id": "1f7bc05b",
   "metadata": {},
   "source": [
    "Today, we will: \n",
    "- Extract data from CSV to create a `geopandas.GeoDataFrame`\n",
    "- Do more customizations for maps and matplotlib figures\n",
    "- Go over strategies to streamline code"
   ]
  },
  {
   "cell_type": "code",
   "execution_count": 6,
   "id": "03d5beeb",
   "metadata": {},
   "outputs": [],
   "source": [
    "import os\n",
    "\n",
    "import pandas as pd\n",
    "from pandas.api.types import is_string_dtype, is_numeric_dtype\n",
    "\n",
    "import geopandas as gpd\n",
    "\n",
    "import matplotlib.pyplot as plt\n",
    "\n",
    "# Set up display options when looking at data frames\n",
    "pd.set_option(\"display.max.columns\", None)\n"
   ]
  },
  {
   "cell_type": "code",
   "execution_count": 9,
   "id": "b3a13e61",
   "metadata": {},
   "outputs": [],
   "source": [
    "# Import power plants data\n",
    "URL = 'https://raw.githubusercontent.com/carmengg/eds-220-book/refs/heads/main/data/power_plants_epsg4269.csv' ## CSV\n",
    "power_plants = pd.read_csv(URL)\n",
    "power_plants.head()\n",
    "\n",
    "# Drop first column \n",
    "power_plants = power_plants.drop(columns = \"Unnamed: 0\")\n"
   ]
  },
  {
   "cell_type": "code",
   "execution_count": 10,
   "id": "ea8a7508",
   "metadata": {},
   "outputs": [
    {
     "data": {
      "text/html": [
       "<div>\n",
       "<style scoped>\n",
       "    .dataframe tbody tr th:only-of-type {\n",
       "        vertical-align: middle;\n",
       "    }\n",
       "\n",
       "    .dataframe tbody tr th {\n",
       "        vertical-align: top;\n",
       "    }\n",
       "\n",
       "    .dataframe thead th {\n",
       "        text-align: right;\n",
       "    }\n",
       "</style>\n",
       "<table border=\"1\" class=\"dataframe\">\n",
       "  <thead>\n",
       "    <tr style=\"text-align: right;\">\n",
       "      <th></th>\n",
       "      <th>region</th>\n",
       "      <th>division</th>\n",
       "      <th>statefp</th>\n",
       "      <th>statens</th>\n",
       "      <th>geoid</th>\n",
       "      <th>stusps</th>\n",
       "      <th>name</th>\n",
       "      <th>lsad</th>\n",
       "      <th>mtfcc</th>\n",
       "      <th>funcstat</th>\n",
       "      <th>aland</th>\n",
       "      <th>awater</th>\n",
       "      <th>intptlat</th>\n",
       "      <th>intptlon</th>\n",
       "      <th>geometry</th>\n",
       "    </tr>\n",
       "  </thead>\n",
       "  <tbody>\n",
       "    <tr>\n",
       "      <th>0</th>\n",
       "      <td>3</td>\n",
       "      <td>5</td>\n",
       "      <td>54</td>\n",
       "      <td>01779805</td>\n",
       "      <td>54</td>\n",
       "      <td>WV</td>\n",
       "      <td>West Virginia</td>\n",
       "      <td>00</td>\n",
       "      <td>G4000</td>\n",
       "      <td>A</td>\n",
       "      <td>62266456923</td>\n",
       "      <td>489045863</td>\n",
       "      <td>+38.6472854</td>\n",
       "      <td>-080.6183274</td>\n",
       "      <td>POLYGON ((-77.75438 39.33346, -77.75422 39.333...</td>\n",
       "    </tr>\n",
       "    <tr>\n",
       "      <th>1</th>\n",
       "      <td>3</td>\n",
       "      <td>5</td>\n",
       "      <td>12</td>\n",
       "      <td>00294478</td>\n",
       "      <td>12</td>\n",
       "      <td>FL</td>\n",
       "      <td>Florida</td>\n",
       "      <td>00</td>\n",
       "      <td>G4000</td>\n",
       "      <td>A</td>\n",
       "      <td>138962819934</td>\n",
       "      <td>45971472526</td>\n",
       "      <td>+28.3989775</td>\n",
       "      <td>-082.5143005</td>\n",
       "      <td>MULTIPOLYGON (((-83.10874 24.62949, -83.10711 ...</td>\n",
       "    </tr>\n",
       "    <tr>\n",
       "      <th>2</th>\n",
       "      <td>2</td>\n",
       "      <td>3</td>\n",
       "      <td>17</td>\n",
       "      <td>01779784</td>\n",
       "      <td>17</td>\n",
       "      <td>IL</td>\n",
       "      <td>Illinois</td>\n",
       "      <td>00</td>\n",
       "      <td>G4000</td>\n",
       "      <td>A</td>\n",
       "      <td>143778515726</td>\n",
       "      <td>6216539665</td>\n",
       "      <td>+40.1028754</td>\n",
       "      <td>-089.1526108</td>\n",
       "      <td>POLYGON ((-87.89243 38.28285, -87.89334 38.282...</td>\n",
       "    </tr>\n",
       "  </tbody>\n",
       "</table>\n",
       "</div>"
      ],
      "text/plain": [
       "  region division statefp   statens geoid stusps           name lsad  mtfcc  \\\n",
       "0      3        5      54  01779805    54     WV  West Virginia   00  G4000   \n",
       "1      3        5      12  00294478    12     FL        Florida   00  G4000   \n",
       "2      2        3      17  01779784    17     IL       Illinois   00  G4000   \n",
       "\n",
       "  funcstat         aland       awater     intptlat      intptlon  \\\n",
       "0        A   62266456923    489045863  +38.6472854  -080.6183274   \n",
       "1        A  138962819934  45971472526  +28.3989775  -082.5143005   \n",
       "2        A  143778515726   6216539665  +40.1028754  -089.1526108   \n",
       "\n",
       "                                            geometry  \n",
       "0  POLYGON ((-77.75438 39.33346, -77.75422 39.333...  \n",
       "1  MULTIPOLYGON (((-83.10874 24.62949, -83.10711 ...  \n",
       "2  POLYGON ((-87.89243 38.28285, -87.89334 38.282...  "
      ]
     },
     "execution_count": 10,
     "metadata": {},
     "output_type": "execute_result"
    }
   ],
   "source": [
    "# Import states data\n",
    "fp = os.path.join(\"data\",'data 2','tl_2022_us_state','tl_2022_us_state.shp')\n",
    "states = gpd.read_file(fp)\n",
    "\n",
    "# Simplify column names\n",
    "states.columns= states.columns.str.lower()\n",
    "states.head(3)"
   ]
  },
  {
   "cell_type": "markdown",
   "id": "00db6199",
   "metadata": {},
   "source": [
    "## CSV to geopandas.GeoDataFrame\n",
    "The power plants file is a CSV. Unlike shapefiles, `geopandas` don't have a way to extract a geometry column from CSV.So, we need to specify this manually. \n",
    "\n",
    "We will use latitude and longitude columns in the CSV, then indicate the location of the power plants in NAD83 CRS. "
   ]
  },
  {
   "cell_type": "code",
   "execution_count": 17,
   "id": "2bfaf99a",
   "metadata": {},
   "outputs": [],
   "source": [
    "# Create points from latitiude and longitude\n",
    "points = gpd.points_from_xy(power_plants.longitude, \n",
    "                   power_plants.latitude)\n",
    "\n",
    "# Create at the geodataframe"
   ]
  },
  {
   "cell_type": "code",
   "execution_count": null,
   "id": "55a72234",
   "metadata": {},
   "outputs": [],
   "source": [
    "power_plants = gpd.GeoDataFrame(power_plants, \n",
    "                 geometry = points, # specify geometry column\n",
    "                 crs = \"EPSG:4269\")"
   ]
  },
  {
   "cell_type": "code",
   "execution_count": 19,
   "id": "be9199da",
   "metadata": {},
   "outputs": [
    {
     "data": {
      "text/plain": [
       "<Axes: >"
      ]
     },
     "execution_count": 19,
     "metadata": {},
     "output_type": "execute_result"
    },
    {
     "data": {
      "image/png": "[encoded data removed]",
      "text/plain": [
       "<Figure size 640x480 with 1 Axes>"
      ]
     },
     "metadata": {},
     "output_type": "display_data"
    }
   ],
   "source": [
    "power_plants.plot()"
   ]
  },
  {
   "cell_type": "markdown",
   "id": "65d85546",
   "metadata": {},
   "source": [
    "## f-strings \n",
    "We have printed variables using string concatenation inside `print()` writing commas between every string and variable we want to print."
   ]
  },
  {
   "cell_type": "code",
   "execution_count": 25,
   "id": "ab23c0b3",
   "metadata": {},
   "outputs": [
    {
     "name": "stdout",
     "output_type": "stream",
     "text": [
      "Hello world\n",
      "Ellipsoid: GRS 1980\n",
      "Datum: North American Datum 1983\n",
      "Is the CRS geographic?   True\n"
     ]
    }
   ],
   "source": [
    "print(f\"Hello world\")\n",
    "\n",
    "# Example: Explore more about CRS \n",
    "print(f\"Ellipsoid: {power_plants.crs.ellipsoid}\")\n",
    "print(f\"Datum: {power_plants.crs.datum}\")\n",
    "\n",
    "# Another example \n",
    "print(f\"{'Is the CRS geographic?': <25}{power_plants.crs.is_geographic}\")"
   ]
  },
  {
   "cell_type": "markdown",
   "id": "e48eaff1",
   "metadata": {},
   "source": [
    "## Explore the TIGER shapefile"
   ]
  },
  {
   "cell_type": "code",
   "execution_count": 26,
   "id": "3189b932",
   "metadata": {},
   "outputs": [
    {
     "data": {
      "text/html": [
       "<div>\n",
       "<style scoped>\n",
       "    .dataframe tbody tr th:only-of-type {\n",
       "        vertical-align: middle;\n",
       "    }\n",
       "\n",
       "    .dataframe tbody tr th {\n",
       "        vertical-align: top;\n",
       "    }\n",
       "\n",
       "    .dataframe thead th {\n",
       "        text-align: right;\n",
       "    }\n",
       "</style>\n",
       "<table border=\"1\" class=\"dataframe\">\n",
       "  <thead>\n",
       "    <tr style=\"text-align: right;\">\n",
       "      <th></th>\n",
       "      <th>region</th>\n",
       "      <th>division</th>\n",
       "      <th>statefp</th>\n",
       "      <th>statens</th>\n",
       "      <th>geoid</th>\n",
       "      <th>stusps</th>\n",
       "      <th>name</th>\n",
       "      <th>lsad</th>\n",
       "      <th>mtfcc</th>\n",
       "      <th>funcstat</th>\n",
       "      <th>aland</th>\n",
       "      <th>awater</th>\n",
       "      <th>intptlat</th>\n",
       "      <th>intptlon</th>\n",
       "      <th>geometry</th>\n",
       "    </tr>\n",
       "  </thead>\n",
       "  <tbody>\n",
       "    <tr>\n",
       "      <th>51</th>\n",
       "      <td>1</td>\n",
       "      <td>1</td>\n",
       "      <td>25</td>\n",
       "      <td>00606926</td>\n",
       "      <td>25</td>\n",
       "      <td>MA</td>\n",
       "      <td>Massachusetts</td>\n",
       "      <td>00</td>\n",
       "      <td>G4000</td>\n",
       "      <td>A</td>\n",
       "      <td>20204341720</td>\n",
       "      <td>7130708927</td>\n",
       "      <td>+42.1565196</td>\n",
       "      <td>-071.4895915</td>\n",
       "      <td>POLYGON ((-71.25515 42.73655, -71.25510 42.736...</td>\n",
       "    </tr>\n",
       "    <tr>\n",
       "      <th>52</th>\n",
       "      <td>3</td>\n",
       "      <td>5</td>\n",
       "      <td>51</td>\n",
       "      <td>01779803</td>\n",
       "      <td>51</td>\n",
       "      <td>VA</td>\n",
       "      <td>Virginia</td>\n",
       "      <td>00</td>\n",
       "      <td>G4000</td>\n",
       "      <td>A</td>\n",
       "      <td>102258178227</td>\n",
       "      <td>8528072639</td>\n",
       "      <td>+37.5222512</td>\n",
       "      <td>-078.6681938</td>\n",
       "      <td>POLYGON ((-76.49150 36.55065, -76.49388 36.550...</td>\n",
       "    </tr>\n",
       "    <tr>\n",
       "      <th>53</th>\n",
       "      <td>3</td>\n",
       "      <td>5</td>\n",
       "      <td>11</td>\n",
       "      <td>01702382</td>\n",
       "      <td>11</td>\n",
       "      <td>DC</td>\n",
       "      <td>District of Columbia</td>\n",
       "      <td>00</td>\n",
       "      <td>G4000</td>\n",
       "      <td>A</td>\n",
       "      <td>158316184</td>\n",
       "      <td>18709787</td>\n",
       "      <td>+38.9042474</td>\n",
       "      <td>-077.0165167</td>\n",
       "      <td>POLYGON ((-77.11975 38.93435, -77.11886 38.935...</td>\n",
       "    </tr>\n",
       "    <tr>\n",
       "      <th>54</th>\n",
       "      <td>2</td>\n",
       "      <td>4</td>\n",
       "      <td>19</td>\n",
       "      <td>01779785</td>\n",
       "      <td>19</td>\n",
       "      <td>IA</td>\n",
       "      <td>Iowa</td>\n",
       "      <td>00</td>\n",
       "      <td>G4000</td>\n",
       "      <td>A</td>\n",
       "      <td>144659596400</td>\n",
       "      <td>1086089872</td>\n",
       "      <td>+42.0700243</td>\n",
       "      <td>-093.4933473</td>\n",
       "      <td>POLYGON ((-95.86095 43.50004, -95.85979 43.500...</td>\n",
       "    </tr>\n",
       "    <tr>\n",
       "      <th>55</th>\n",
       "      <td>4</td>\n",
       "      <td>8</td>\n",
       "      <td>04</td>\n",
       "      <td>01779777</td>\n",
       "      <td>04</td>\n",
       "      <td>AZ</td>\n",
       "      <td>Arizona</td>\n",
       "      <td>00</td>\n",
       "      <td>G4000</td>\n",
       "      <td>A</td>\n",
       "      <td>294365853885</td>\n",
       "      <td>853990728</td>\n",
       "      <td>+34.2039362</td>\n",
       "      <td>-111.6063449</td>\n",
       "      <td>POLYGON ((-110.75069 37.00301, -110.74193 37.0...</td>\n",
       "    </tr>\n",
       "  </tbody>\n",
       "</table>\n",
       "</div>"
      ],
      "text/plain": [
       "   region division statefp   statens geoid stusps                  name lsad  \\\n",
       "51      1        1      25  00606926    25     MA         Massachusetts   00   \n",
       "52      3        5      51  01779803    51     VA              Virginia   00   \n",
       "53      3        5      11  01702382    11     DC  District of Columbia   00   \n",
       "54      2        4      19  01779785    19     IA                  Iowa   00   \n",
       "55      4        8      04  01779777    04     AZ               Arizona   00   \n",
       "\n",
       "    mtfcc funcstat         aland      awater     intptlat      intptlon  \\\n",
       "51  G4000        A   20204341720  7130708927  +42.1565196  -071.4895915   \n",
       "52  G4000        A  102258178227  8528072639  +37.5222512  -078.6681938   \n",
       "53  G4000        A     158316184    18709787  +38.9042474  -077.0165167   \n",
       "54  G4000        A  144659596400  1086089872  +42.0700243  -093.4933473   \n",
       "55  G4000        A  294365853885   853990728  +34.2039362  -111.6063449   \n",
       "\n",
       "                                             geometry  \n",
       "51  POLYGON ((-71.25515 42.73655, -71.25510 42.736...  \n",
       "52  POLYGON ((-76.49150 36.55065, -76.49388 36.550...  \n",
       "53  POLYGON ((-77.11975 38.93435, -77.11886 38.935...  \n",
       "54  POLYGON ((-95.86095 43.50004, -95.85979 43.500...  \n",
       "55  POLYGON ((-110.75069 37.00301, -110.74193 37.0...  "
      ]
     },
     "execution_count": 26,
     "metadata": {},
     "output_type": "execute_result"
    }
   ],
   "source": [
    "states.tail()"
   ]
  },
  {
   "cell_type": "code",
   "execution_count": 27,
   "id": "0b52d284",
   "metadata": {},
   "outputs": [
    {
     "name": "stdout",
     "output_type": "stream",
     "text": [
      "EPSG:4269\n"
     ]
    },
    {
     "data": {
      "text/plain": [
       "<Axes: >"
      ]
     },
     "execution_count": 27,
     "metadata": {},
     "output_type": "execute_result"
    },
    {
     "data": {
      "image/png": "[encoded data removed]",
      "text/plain": [
       "<Figure size 640x480 with 1 Axes>"
      ]
     },
     "metadata": {},
     "output_type": "display_data"
    }
   ],
   "source": [
    "print(states.crs)\n",
    "states.plot()"
   ]
  },
  {
   "cell_type": "markdown",
   "id": "eee0cc90",
   "metadata": {},
   "source": [
    "## for loops \n",
    "Example: It can be easier to work with codes as numbers instead of strings. Update the corresponding columnsin the states geo.DataFrame."
   ]
  },
  {
   "cell_type": "code",
   "execution_count": null,
   "id": "f5afc6be",
   "metadata": {},
   "outputs": [
    {
     "name": "stdout",
     "output_type": "stream",
     "text": [
      "Region is string type? True\n",
      "Division is string type? True\n",
      "Statefp is string type? True\n"
     ]
    }
   ],
   "source": [
    "print(f\"Region is string type? {is_string_dtype(states['region'])}\")\n",
    "print(f\"Division is string type? {is_string_dtype(states['division'])}\")\n",
    "print(f\"Statefp is string type? {is_string_dtype(states['statefp'])}\")"
   ]
  },
  {
   "cell_type": "code",
   "execution_count": 36,
   "id": "4177574b",
   "metadata": {},
   "outputs": [
    {
     "name": "stdout",
     "output_type": "stream",
     "text": [
      "region is string type? True\n",
      "division is string type? True\n",
      "statefp is string type? True\n"
     ]
    }
   ],
   "source": [
    "# Use a for loop instead of copy-pasting individually \n",
    "code_cols = [\"region\",\"division\", \"statefp\"]\n",
    "for col in code_cols:\n",
    "    #print(cols) \n",
    "    print(f\"{col} is string type? {is_string_dtype(states[col])}\")\n"
   ]
  },
  {
   "cell_type": "markdown",
   "id": "ffbe387d",
   "metadata": {},
   "source": [
    "**DRY code** = Don't repeat youself \n",
    "This is a code programming principle to reduce redundancy and consolidation. \n",
    "\n",
    "If this is repeated more than twice, then we would likely need a for loop. \n",
    "\n",
    "## `assert`\n",
    "`assert` does nothing if the expression next to it evaluates to True and it raises an \"AssertionError\" exception and stops tour code from running further if not."
   ]
  },
  {
   "cell_type": "code",
   "execution_count": 39,
   "id": "a9f47e05",
   "metadata": {},
   "outputs": [
    {
     "ename": "AssertionError",
     "evalue": "",
     "output_type": "error",
     "traceback": [
      "\u001b[31m---------------------------------------------------------------------------\u001b[39m",
      "\u001b[31mAssertionError\u001b[39m                            Traceback (most recent call last)",
      "\u001b[36mCell\u001b[39m\u001b[36m \u001b[39m\u001b[32mIn[39]\u001b[39m\u001b[32m, line 2\u001b[39m\n\u001b[32m      1\u001b[39m \u001b[38;5;66;03m# Raise error if statement is false \u001b[39;00m\n\u001b[32m----> \u001b[39m\u001b[32m2\u001b[39m \u001b[38;5;28;01massert\u001b[39;00m \u001b[32m2\u001b[39m+\u001b[32m2\u001b[39m == \u001b[32m3\u001b[39m\n",
      "\u001b[31mAssertionError\u001b[39m: "
     ]
    }
   ],
   "source": [
    "# Raise error if statement is false \n",
    "assert 2+2 == 3"
   ]
  },
  {
   "cell_type": "markdown",
   "id": "e82dcd7a",
   "metadata": {},
   "source": [
    "# Update code columns into integers\n",
    "# Workflow for updating the data type of code columns to be integers. \n",
    "for each column in code_columns: \n",
    "\n",
    "    convert column to numeric \n",
    "    \n",
    "    check if column is numeric using assert"
   ]
  },
  {
   "cell_type": "markdown",
   "id": "10358807",
   "metadata": {},
   "source": []
  },
  {
   "cell_type": "code",
   "execution_count": 41,
   "id": "d81a6479",
   "metadata": {},
   "outputs": [],
   "source": [
    "for column in code_cols: \n",
    "    states[column] = states[column].astype(\"int\")\n",
    "    assert is_numeric_dtype(states[column])"
   ]
  },
  {
   "cell_type": "code",
   "execution_count": null,
   "id": "fa3ee682",
   "metadata": {},
   "outputs": [],
   "source": []
  }
 ],
 "metadata": {
  "kernelspec": {
   "display_name": "EDS-220 env",
   "language": "python",
   "name": "eds220-env"
  },
  "language_info": {
   "codemirror_mode": {
    "name": "ipython",
    "version": 3
   },
   "file_extension": ".py",
   "mimetype": "text/x-python",
   "name": "python",
   "nbconvert_exporter": "python",
   "pygments_lexer": "ipython3",
   "version": "3.11.4"
  }
 },
 "nbformat": 4,
 "nbformat_minor": 5
}
