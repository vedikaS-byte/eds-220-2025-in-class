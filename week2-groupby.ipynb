{
 "cells": [
  {
   "cell_type": "code",
   "execution_count": 25,
   "id": "5c5fdd87-f79b-4944-9538-fab495909563",
   "metadata": {
    "tags": []
   },
   "outputs": [
    {
     "data": {
      "text/html": [
       "<div>\n",
       "<style scoped>\n",
       "    .dataframe tbody tr th:only-of-type {\n",
       "        vertical-align: middle;\n",
       "    }\n",
       "\n",
       "    .dataframe tbody tr th {\n",
       "        vertical-align: top;\n",
       "    }\n",
       "\n",
       "    .dataframe thead th {\n",
       "        text-align: right;\n",
       "    }\n",
       "</style>\n",
       "<table border=\"1\" class=\"dataframe\">\n",
       "  <thead>\n",
       "    <tr style=\"text-align: right;\">\n",
       "      <th></th>\n",
       "      <th>species</th>\n",
       "      <th>island</th>\n",
       "      <th>bill_length_mm</th>\n",
       "      <th>bill_depth_mm</th>\n",
       "      <th>flipper_length_mm</th>\n",
       "      <th>body_mass_g</th>\n",
       "      <th>sex</th>\n",
       "      <th>year</th>\n",
       "    </tr>\n",
       "  </thead>\n",
       "  <tbody>\n",
       "    <tr>\n",
       "      <th>0</th>\n",
       "      <td>Adelie</td>\n",
       "      <td>Torgersen</td>\n",
       "      <td>39.1</td>\n",
       "      <td>18.7</td>\n",
       "      <td>181.0</td>\n",
       "      <td>3750.0</td>\n",
       "      <td>male</td>\n",
       "      <td>2007</td>\n",
       "    </tr>\n",
       "    <tr>\n",
       "      <th>1</th>\n",
       "      <td>Adelie</td>\n",
       "      <td>Torgersen</td>\n",
       "      <td>39.5</td>\n",
       "      <td>17.4</td>\n",
       "      <td>186.0</td>\n",
       "      <td>3800.0</td>\n",
       "      <td>female</td>\n",
       "      <td>2007</td>\n",
       "    </tr>\n",
       "    <tr>\n",
       "      <th>2</th>\n",
       "      <td>Adelie</td>\n",
       "      <td>Torgersen</td>\n",
       "      <td>40.3</td>\n",
       "      <td>18.0</td>\n",
       "      <td>195.0</td>\n",
       "      <td>3250.0</td>\n",
       "      <td>female</td>\n",
       "      <td>2007</td>\n",
       "    </tr>\n",
       "    <tr>\n",
       "      <th>3</th>\n",
       "      <td>Adelie</td>\n",
       "      <td>Torgersen</td>\n",
       "      <td>NaN</td>\n",
       "      <td>NaN</td>\n",
       "      <td>NaN</td>\n",
       "      <td>NaN</td>\n",
       "      <td>NaN</td>\n",
       "      <td>2007</td>\n",
       "    </tr>\n",
       "    <tr>\n",
       "      <th>4</th>\n",
       "      <td>Adelie</td>\n",
       "      <td>Torgersen</td>\n",
       "      <td>36.7</td>\n",
       "      <td>19.3</td>\n",
       "      <td>193.0</td>\n",
       "      <td>3450.0</td>\n",
       "      <td>female</td>\n",
       "      <td>2007</td>\n",
       "    </tr>\n",
       "  </tbody>\n",
       "</table>\n",
       "</div>"
      ],
      "text/plain": [
       "  species     island  bill_length_mm  bill_depth_mm  flipper_length_mm  \\\n",
       "0  Adelie  Torgersen            39.1           18.7              181.0   \n",
       "1  Adelie  Torgersen            39.5           17.4              186.0   \n",
       "2  Adelie  Torgersen            40.3           18.0              195.0   \n",
       "3  Adelie  Torgersen             NaN            NaN                NaN   \n",
       "4  Adelie  Torgersen            36.7           19.3              193.0   \n",
       "\n",
       "   body_mass_g     sex  year  \n",
       "0       3750.0    male  2007  \n",
       "1       3800.0  female  2007  \n",
       "2       3250.0  female  2007  \n",
       "3          NaN     NaN  2007  \n",
       "4       3450.0  female  2007  "
      ]
     },
     "execution_count": 25,
     "metadata": {},
     "output_type": "execute_result"
    }
   ],
   "source": [
    "import numpy as np\n",
    "import pandas as pd\n",
    "\n",
    "# Load Palmer penguins data\n",
    "URL = 'https://raw.githubusercontent.com/allisonhorst/palmerpenguins/main/inst/extdata/penguins.csv'\n",
    "penguins = pd.read_csv(URL)\n",
    "\n",
    "penguins.head()"
   ]
  },
  {
   "cell_type": "code",
   "execution_count": 26,
   "id": "b4d9b840-12a5-4305-8060-b2da78fc7c6d",
   "metadata": {
    "tags": []
   },
   "outputs": [
    {
     "data": {
      "text/plain": [
       "species              344\n",
       "island               344\n",
       "bill_length_mm       342\n",
       "bill_depth_mm        342\n",
       "flipper_length_mm    342\n",
       "body_mass_g          342\n",
       "sex                  333\n",
       "year                 344\n",
       "dtype: int64"
      ]
     },
     "execution_count": 26,
     "metadata": {},
     "output_type": "execute_result"
    }
   ],
   "source": [
    "# Get the number of non-NA values in each column \n",
    "penguins.count()"
   ]
  },
  {
   "cell_type": "code",
   "execution_count": 27,
   "id": "2a13f82e-10e2-4d66-b8e8-2eb856b381ac",
   "metadata": {
    "tags": []
   },
   "outputs": [
    {
     "data": {
      "text/plain": [
       "bill_length_mm         32.1\n",
       "bill_depth_mm          13.1\n",
       "flipper_length_mm     172.0\n",
       "body_mass_g          2700.0\n",
       "year                 2007.0\n",
       "dtype: float64"
      ]
     },
     "execution_count": 27,
     "metadata": {},
     "output_type": "execute_result"
    }
   ],
   "source": [
    "# Get minimum value in each column with numerical values\n",
    "penguins.select_dtypes('number').min()"
   ]
  },
  {
   "cell_type": "markdown",
   "id": "0f0827a9-4608-4fe7-befd-5077577fee16",
   "metadata": {},
   "source": [
    "## Grouping"
   ]
  },
  {
   "cell_type": "code",
   "execution_count": 28,
   "id": "9895a761-e7e9-4856-9b76-dd2ddd94f863",
   "metadata": {
    "tags": []
   },
   "outputs": [
    {
     "data": {
      "text/plain": [
       "200.91520467836258"
      ]
     },
     "execution_count": 28,
     "metadata": {},
     "output_type": "execute_result"
    }
   ],
   "source": [
    "penguins['flipper_length_mm'].mean()"
   ]
  },
  {
   "cell_type": "code",
   "execution_count": 29,
   "id": "7222e11e-4437-4176-8f0f-b9a7955ac86e",
   "metadata": {
    "tags": []
   },
   "outputs": [
    {
     "data": {
      "text/plain": [
       "<pandas.core.groupby.generic.SeriesGroupBy object at 0x7f41a93565d0>"
      ]
     },
     "execution_count": 29,
     "metadata": {},
     "output_type": "execute_result"
    }
   ],
   "source": [
    "penguins.groupby('species')['flipper_length_mm']"
   ]
  },
  {
   "cell_type": "code",
   "execution_count": 30,
   "id": "2242a527-7ef6-448f-aeb0-3ac3f0f43351",
   "metadata": {
    "tags": []
   },
   "outputs": [
    {
     "data": {
      "text/plain": [
       "species\n",
       "Adelie       189.953642\n",
       "Chinstrap    195.823529\n",
       "Gentoo       217.186992\n",
       "Name: flipper_length_mm, dtype: float64"
      ]
     },
     "execution_count": 30,
     "metadata": {},
     "output_type": "execute_result"
    }
   ],
   "source": [
    "# Average flipper length per species\n",
    "penguins.groupby('species')['flipper_length_mm'].mean()"
   ]
  },
  {
   "cell_type": "code",
   "execution_count": 31,
   "id": "8ac17055-a992-40d9-ad2e-8265a57807c7",
   "metadata": {
    "tags": []
   },
   "outputs": [
    {
     "data": {
      "text/plain": [
       "species\n",
       "Gentoo       217.186992\n",
       "Chinstrap    195.823529\n",
       "Adelie       189.953642\n",
       "Name: mean_flipper_length, dtype: float64"
      ]
     },
     "execution_count": 31,
     "metadata": {},
     "output_type": "execute_result"
    }
   ],
   "source": [
    "# Average flipper length per species\n",
    "avg_flipper = (penguins.groupby(\"species\")\n",
    "                        .flipper_length_mm\n",
    "                        .mean()\n",
    "                        .rename('mean_flipper_length')\n",
    "                        .sort_values(ascending=False)\n",
    "                        )\n",
    "avg_flipper"
   ]
  },
  {
   "cell_type": "code",
   "execution_count": 32,
   "id": "1e9ae048-a095-4d0c-8949-613944c1dc56",
   "metadata": {
    "tags": []
   },
   "outputs": [
    {
     "data": {
      "text/html": [
       "<div>\n",
       "<style scoped>\n",
       "    .dataframe tbody tr th:only-of-type {\n",
       "        vertical-align: middle;\n",
       "    }\n",
       "\n",
       "    .dataframe tbody tr th {\n",
       "        vertical-align: top;\n",
       "    }\n",
       "\n",
       "    .dataframe thead th {\n",
       "        text-align: right;\n",
       "    }\n",
       "</style>\n",
       "<table border=\"1\" class=\"dataframe\">\n",
       "  <thead>\n",
       "    <tr style=\"text-align: right;\">\n",
       "      <th></th>\n",
       "      <th></th>\n",
       "      <th>species</th>\n",
       "      <th>bill_length_mm</th>\n",
       "      <th>bill_depth_mm</th>\n",
       "      <th>flipper_length_mm</th>\n",
       "      <th>body_mass_g</th>\n",
       "      <th>sex</th>\n",
       "    </tr>\n",
       "    <tr>\n",
       "      <th>island</th>\n",
       "      <th>year</th>\n",
       "      <th></th>\n",
       "      <th></th>\n",
       "      <th></th>\n",
       "      <th></th>\n",
       "      <th></th>\n",
       "      <th></th>\n",
       "    </tr>\n",
       "  </thead>\n",
       "  <tbody>\n",
       "    <tr>\n",
       "      <th rowspan=\"3\" valign=\"top\">Biscoe</th>\n",
       "      <th>2007</th>\n",
       "      <td>44</td>\n",
       "      <td>44</td>\n",
       "      <td>44</td>\n",
       "      <td>44</td>\n",
       "      <td>44</td>\n",
       "      <td>43</td>\n",
       "    </tr>\n",
       "    <tr>\n",
       "      <th>2008</th>\n",
       "      <td>64</td>\n",
       "      <td>64</td>\n",
       "      <td>64</td>\n",
       "      <td>64</td>\n",
       "      <td>64</td>\n",
       "      <td>63</td>\n",
       "    </tr>\n",
       "    <tr>\n",
       "      <th>2009</th>\n",
       "      <td>60</td>\n",
       "      <td>59</td>\n",
       "      <td>59</td>\n",
       "      <td>59</td>\n",
       "      <td>59</td>\n",
       "      <td>57</td>\n",
       "    </tr>\n",
       "    <tr>\n",
       "      <th rowspan=\"3\" valign=\"top\">Dream</th>\n",
       "      <th>2007</th>\n",
       "      <td>46</td>\n",
       "      <td>46</td>\n",
       "      <td>46</td>\n",
       "      <td>46</td>\n",
       "      <td>46</td>\n",
       "      <td>45</td>\n",
       "    </tr>\n",
       "    <tr>\n",
       "      <th>2008</th>\n",
       "      <td>34</td>\n",
       "      <td>34</td>\n",
       "      <td>34</td>\n",
       "      <td>34</td>\n",
       "      <td>34</td>\n",
       "      <td>34</td>\n",
       "    </tr>\n",
       "    <tr>\n",
       "      <th>2009</th>\n",
       "      <td>44</td>\n",
       "      <td>44</td>\n",
       "      <td>44</td>\n",
       "      <td>44</td>\n",
       "      <td>44</td>\n",
       "      <td>44</td>\n",
       "    </tr>\n",
       "    <tr>\n",
       "      <th rowspan=\"3\" valign=\"top\">Torgersen</th>\n",
       "      <th>2007</th>\n",
       "      <td>20</td>\n",
       "      <td>19</td>\n",
       "      <td>19</td>\n",
       "      <td>19</td>\n",
       "      <td>19</td>\n",
       "      <td>15</td>\n",
       "    </tr>\n",
       "    <tr>\n",
       "      <th>2008</th>\n",
       "      <td>16</td>\n",
       "      <td>16</td>\n",
       "      <td>16</td>\n",
       "      <td>16</td>\n",
       "      <td>16</td>\n",
       "      <td>16</td>\n",
       "    </tr>\n",
       "    <tr>\n",
       "      <th>2009</th>\n",
       "      <td>16</td>\n",
       "      <td>16</td>\n",
       "      <td>16</td>\n",
       "      <td>16</td>\n",
       "      <td>16</td>\n",
       "      <td>16</td>\n",
       "    </tr>\n",
       "  </tbody>\n",
       "</table>\n",
       "</div>"
      ],
      "text/plain": [
       "                species  bill_length_mm  bill_depth_mm  flipper_length_mm  \\\n",
       "island    year                                                              \n",
       "Biscoe    2007       44              44             44                 44   \n",
       "          2008       64              64             64                 64   \n",
       "          2009       60              59             59                 59   \n",
       "Dream     2007       46              46             46                 46   \n",
       "          2008       34              34             34                 34   \n",
       "          2009       44              44             44                 44   \n",
       "Torgersen 2007       20              19             19                 19   \n",
       "          2008       16              16             16                 16   \n",
       "          2009       16              16             16                 16   \n",
       "\n",
       "                body_mass_g  sex  \n",
       "island    year                    \n",
       "Biscoe    2007           44   43  \n",
       "          2008           64   63  \n",
       "          2009           59   57  \n",
       "Dream     2007           46   45  \n",
       "          2008           34   34  \n",
       "          2009           44   44  \n",
       "Torgersen 2007           19   15  \n",
       "          2008           16   16  \n",
       "          2009           16   16  "
      ]
     },
     "execution_count": 32,
     "metadata": {},
     "output_type": "execute_result"
    }
   ],
   "source": [
    "penguins.groupby(['island','year']).count()"
   ]
  },
  {
   "cell_type": "code",
   "execution_count": 33,
   "id": "b4fd9acc-d399-44b3-881e-8695887737be",
   "metadata": {
    "tags": []
   },
   "outputs": [
    {
     "data": {
      "text/plain": [
       "<Axes: title={'center': 'Penguins surveyed at the Palmer Archipelago'}, ylabel='Island, Year'>"
      ]
     },
     "execution_count": 33,
     "metadata": {},
     "output_type": "execute_result"
    },
    {
     "data": {
      "image/png": "[encoded data removed]",
      "text/plain": [
       "<Figure size 640x480 with 1 Axes>"
      ]
     },
     "metadata": {},
     "output_type": "display_data"
    }
   ],
   "source": [
    "(penguins.groupby(['island','year'])\n",
    "         .count()\n",
    "         .species\n",
    "         .sort_values()\n",
    "         .plot(kind='barh',\n",
    "                title='Penguins surveyed at the Palmer Archipelago',\n",
    "                ylabel=('Island, Year'))\n",
    "         )"
   ]
  },
  {
   "cell_type": "markdown",
   "id": "1b497caa-a798-46f5-a4e9-d760a3468bd7",
   "metadata": {},
   "source": [
    "## Check-in"
   ]
  },
  {
   "cell_type": "markdown",
   "id": "49a146c1-3016-44db-92fb-7d6195090823",
   "metadata": {},
   "source": [
    "1. Use the max() method for pandas.DataFrames to calculate the maximum value of a penguin’s body mass by year and species.\n",
    "2. Use (1) to display the highest body masses per year and species as a bar plot in descending order."
   ]
  },
  {
   "cell_type": "code",
   "execution_count": 36,
   "id": "00f94f53-f919-4193-b650-ade7a8777a13",
   "metadata": {
    "tags": []
   },
   "outputs": [
    {
     "data": {
      "text/plain": [
       "year  species  \n",
       "2007  Adelie       4675.0\n",
       "      Chinstrap    4400.0\n",
       "      Gentoo       6300.0\n",
       "2008  Adelie       4700.0\n",
       "      Chinstrap    4800.0\n",
       "      Gentoo       6000.0\n",
       "2009  Adelie       4775.0\n",
       "      Chinstrap    4450.0\n",
       "      Gentoo       6000.0\n",
       "Name: body_mass_g, dtype: float64"
      ]
     },
     "execution_count": 36,
     "metadata": {},
     "output_type": "execute_result"
    }
   ],
   "source": [
    "penguins.groupby([\"year\", \"species\"])[\"body_mass_g\"].max()"
   ]
  },
  {
   "cell_type": "code",
   "execution_count": 40,
   "id": "eea36912-893f-4b90-9d14-4c16b3ce047f",
   "metadata": {
    "tags": []
   },
   "outputs": [
    {
     "data": {
      "text/plain": [
       "<Axes: title={'center': 'Highest penguin body masses per year and species'}, ylabel='Year, Species'>"
      ]
     },
     "execution_count": 40,
     "metadata": {},
     "output_type": "execute_result"
    },
    {
     "data": {
      "image/png": "[encoded data removed]",
      "text/plain": [
       "<Figure size 640x480 with 1 Axes>"
      ]
     },
     "metadata": {},
     "output_type": "display_data"
    }
   ],
   "source": [
    "(penguins.groupby([\"year\", \"species\"])[\"body_mass_g\"].max().sort_values(ascending = True).plot(kind='barh',\n",
    "                title='Highest penguin body masses per year and species',\n",
    "                ylabel=('Year, Species'))\n",
    "         )"
   ]
  },
  {
   "cell_type": "code",
   "execution_count": null,
   "id": "51ec6ed5-aa80-41a5-bc67-420d51896fec",
   "metadata": {},
   "outputs": [],
   "source": []
  }
 ],
 "metadata": {
  "kernelspec": {
   "display_name": "EDS220",
   "language": "python",
   "name": "eds220-env"
  },
  "language_info": {
   "codemirror_mode": {
    "name": "ipython",
    "version": 3
   },
   "file_extension": ".py",
   "mimetype": "text/x-python",
   "name": "python",
   "nbconvert_exporter": "python",
   "pygments_lexer": "ipython3",
   "version": "3.11.4"
  }
 },
 "nbformat": 4,
 "nbformat_minor": 5
}
